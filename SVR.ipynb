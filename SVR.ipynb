{
 "cells": [
  {
   "cell_type": "code",
   "execution_count": 1,
   "id": "7fb2902d",
   "metadata": {},
   "outputs": [],
   "source": [
    "import pandas as pd"
   ]
  },
  {
   "cell_type": "code",
   "execution_count": 2,
   "id": "0bb6a014",
   "metadata": {},
   "outputs": [],
   "source": [
    "data =pd.read_csv(\"https://raw.githubusercontent.com/srinivasav22/Graduate-Admission-Prediction/master/Admission_Predict_Ver1.1.csv\")"
   ]
  },
  {
   "cell_type": "code",
   "execution_count": 3,
   "id": "33d73610",
   "metadata": {},
   "outputs": [
    {
     "data": {
      "text/html": [
       "<div>\n",
       "<style scoped>\n",
       "    .dataframe tbody tr th:only-of-type {\n",
       "        vertical-align: middle;\n",
       "    }\n",
       "\n",
       "    .dataframe tbody tr th {\n",
       "        vertical-align: top;\n",
       "    }\n",
       "\n",
       "    .dataframe thead th {\n",
       "        text-align: right;\n",
       "    }\n",
       "</style>\n",
       "<table border=\"1\" class=\"dataframe\">\n",
       "  <thead>\n",
       "    <tr style=\"text-align: right;\">\n",
       "      <th></th>\n",
       "      <th>Serial No.</th>\n",
       "      <th>GRE Score</th>\n",
       "      <th>TOEFL Score</th>\n",
       "      <th>University Rating</th>\n",
       "      <th>SOP</th>\n",
       "      <th>LOR</th>\n",
       "      <th>CGPA</th>\n",
       "      <th>Research</th>\n",
       "      <th>Chance of Admit</th>\n",
       "    </tr>\n",
       "  </thead>\n",
       "  <tbody>\n",
       "    <tr>\n",
       "      <th>0</th>\n",
       "      <td>1</td>\n",
       "      <td>337</td>\n",
       "      <td>118</td>\n",
       "      <td>4</td>\n",
       "      <td>4.5</td>\n",
       "      <td>4.5</td>\n",
       "      <td>9.65</td>\n",
       "      <td>1</td>\n",
       "      <td>0.92</td>\n",
       "    </tr>\n",
       "    <tr>\n",
       "      <th>1</th>\n",
       "      <td>2</td>\n",
       "      <td>324</td>\n",
       "      <td>107</td>\n",
       "      <td>4</td>\n",
       "      <td>4.0</td>\n",
       "      <td>4.5</td>\n",
       "      <td>8.87</td>\n",
       "      <td>1</td>\n",
       "      <td>0.76</td>\n",
       "    </tr>\n",
       "    <tr>\n",
       "      <th>2</th>\n",
       "      <td>3</td>\n",
       "      <td>316</td>\n",
       "      <td>104</td>\n",
       "      <td>3</td>\n",
       "      <td>3.0</td>\n",
       "      <td>3.5</td>\n",
       "      <td>8.00</td>\n",
       "      <td>1</td>\n",
       "      <td>0.72</td>\n",
       "    </tr>\n",
       "    <tr>\n",
       "      <th>3</th>\n",
       "      <td>4</td>\n",
       "      <td>322</td>\n",
       "      <td>110</td>\n",
       "      <td>3</td>\n",
       "      <td>3.5</td>\n",
       "      <td>2.5</td>\n",
       "      <td>8.67</td>\n",
       "      <td>1</td>\n",
       "      <td>0.80</td>\n",
       "    </tr>\n",
       "    <tr>\n",
       "      <th>4</th>\n",
       "      <td>5</td>\n",
       "      <td>314</td>\n",
       "      <td>103</td>\n",
       "      <td>2</td>\n",
       "      <td>2.0</td>\n",
       "      <td>3.0</td>\n",
       "      <td>8.21</td>\n",
       "      <td>0</td>\n",
       "      <td>0.65</td>\n",
       "    </tr>\n",
       "  </tbody>\n",
       "</table>\n",
       "</div>"
      ],
      "text/plain": [
       "   Serial No.  GRE Score  TOEFL Score  University Rating  SOP  LOR   CGPA  \\\n",
       "0           1        337          118                  4  4.5   4.5  9.65   \n",
       "1           2        324          107                  4  4.0   4.5  8.87   \n",
       "2           3        316          104                  3  3.0   3.5  8.00   \n",
       "3           4        322          110                  3  3.5   2.5  8.67   \n",
       "4           5        314          103                  2  2.0   3.0  8.21   \n",
       "\n",
       "   Research  Chance of Admit   \n",
       "0         1              0.92  \n",
       "1         1              0.76  \n",
       "2         1              0.72  \n",
       "3         1              0.80  \n",
       "4         0              0.65  "
      ]
     },
     "execution_count": 3,
     "metadata": {},
     "output_type": "execute_result"
    }
   ],
   "source": [
    "data.head()"
   ]
  },
  {
   "cell_type": "code",
   "execution_count": 4,
   "id": "34db85fb",
   "metadata": {},
   "outputs": [
    {
     "name": "stdout",
     "output_type": "stream",
     "text": [
      "<class 'pandas.core.frame.DataFrame'>\n",
      "RangeIndex: 500 entries, 0 to 499\n",
      "Data columns (total 9 columns):\n",
      " #   Column             Non-Null Count  Dtype  \n",
      "---  ------             --------------  -----  \n",
      " 0   Serial No.         500 non-null    int64  \n",
      " 1   GRE Score          500 non-null    int64  \n",
      " 2   TOEFL Score        500 non-null    int64  \n",
      " 3   University Rating  500 non-null    int64  \n",
      " 4   SOP                500 non-null    float64\n",
      " 5   LOR                500 non-null    float64\n",
      " 6   CGPA               500 non-null    float64\n",
      " 7   Research           500 non-null    int64  \n",
      " 8   Chance of Admit    500 non-null    float64\n",
      "dtypes: float64(4), int64(5)\n",
      "memory usage: 35.3 KB\n"
     ]
    }
   ],
   "source": [
    "data.info()"
   ]
  },
  {
   "cell_type": "code",
   "execution_count": 5,
   "id": "d40affa8",
   "metadata": {},
   "outputs": [
    {
     "data": {
      "text/plain": [
       "Index(['Serial No.', 'GRE Score', 'TOEFL Score', 'University Rating', 'SOP',\n",
       "       'LOR ', 'CGPA', 'Research', 'Chance of Admit '],\n",
       "      dtype='object')"
      ]
     },
     "execution_count": 5,
     "metadata": {},
     "output_type": "execute_result"
    }
   ],
   "source": [
    "data.columns"
   ]
  },
  {
   "cell_type": "code",
   "execution_count": 6,
   "id": "da949906",
   "metadata": {},
   "outputs": [
    {
     "data": {
      "text/html": [
       "<div>\n",
       "<style scoped>\n",
       "    .dataframe tbody tr th:only-of-type {\n",
       "        vertical-align: middle;\n",
       "    }\n",
       "\n",
       "    .dataframe tbody tr th {\n",
       "        vertical-align: top;\n",
       "    }\n",
       "\n",
       "    .dataframe thead th {\n",
       "        text-align: right;\n",
       "    }\n",
       "</style>\n",
       "<table border=\"1\" class=\"dataframe\">\n",
       "  <thead>\n",
       "    <tr style=\"text-align: right;\">\n",
       "      <th></th>\n",
       "      <th>count</th>\n",
       "      <th>mean</th>\n",
       "      <th>std</th>\n",
       "      <th>min</th>\n",
       "      <th>25%</th>\n",
       "      <th>50%</th>\n",
       "      <th>75%</th>\n",
       "      <th>max</th>\n",
       "    </tr>\n",
       "  </thead>\n",
       "  <tbody>\n",
       "    <tr>\n",
       "      <th>Serial No.</th>\n",
       "      <td>500.0</td>\n",
       "      <td>250.50000</td>\n",
       "      <td>144.481833</td>\n",
       "      <td>1.00</td>\n",
       "      <td>125.7500</td>\n",
       "      <td>250.50</td>\n",
       "      <td>375.25</td>\n",
       "      <td>500.00</td>\n",
       "    </tr>\n",
       "    <tr>\n",
       "      <th>GRE Score</th>\n",
       "      <td>500.0</td>\n",
       "      <td>316.47200</td>\n",
       "      <td>11.295148</td>\n",
       "      <td>290.00</td>\n",
       "      <td>308.0000</td>\n",
       "      <td>317.00</td>\n",
       "      <td>325.00</td>\n",
       "      <td>340.00</td>\n",
       "    </tr>\n",
       "    <tr>\n",
       "      <th>TOEFL Score</th>\n",
       "      <td>500.0</td>\n",
       "      <td>107.19200</td>\n",
       "      <td>6.081868</td>\n",
       "      <td>92.00</td>\n",
       "      <td>103.0000</td>\n",
       "      <td>107.00</td>\n",
       "      <td>112.00</td>\n",
       "      <td>120.00</td>\n",
       "    </tr>\n",
       "    <tr>\n",
       "      <th>University Rating</th>\n",
       "      <td>500.0</td>\n",
       "      <td>3.11400</td>\n",
       "      <td>1.143512</td>\n",
       "      <td>1.00</td>\n",
       "      <td>2.0000</td>\n",
       "      <td>3.00</td>\n",
       "      <td>4.00</td>\n",
       "      <td>5.00</td>\n",
       "    </tr>\n",
       "    <tr>\n",
       "      <th>SOP</th>\n",
       "      <td>500.0</td>\n",
       "      <td>3.37400</td>\n",
       "      <td>0.991004</td>\n",
       "      <td>1.00</td>\n",
       "      <td>2.5000</td>\n",
       "      <td>3.50</td>\n",
       "      <td>4.00</td>\n",
       "      <td>5.00</td>\n",
       "    </tr>\n",
       "    <tr>\n",
       "      <th>LOR</th>\n",
       "      <td>500.0</td>\n",
       "      <td>3.48400</td>\n",
       "      <td>0.925450</td>\n",
       "      <td>1.00</td>\n",
       "      <td>3.0000</td>\n",
       "      <td>3.50</td>\n",
       "      <td>4.00</td>\n",
       "      <td>5.00</td>\n",
       "    </tr>\n",
       "    <tr>\n",
       "      <th>CGPA</th>\n",
       "      <td>500.0</td>\n",
       "      <td>8.57644</td>\n",
       "      <td>0.604813</td>\n",
       "      <td>6.80</td>\n",
       "      <td>8.1275</td>\n",
       "      <td>8.56</td>\n",
       "      <td>9.04</td>\n",
       "      <td>9.92</td>\n",
       "    </tr>\n",
       "    <tr>\n",
       "      <th>Research</th>\n",
       "      <td>500.0</td>\n",
       "      <td>0.56000</td>\n",
       "      <td>0.496884</td>\n",
       "      <td>0.00</td>\n",
       "      <td>0.0000</td>\n",
       "      <td>1.00</td>\n",
       "      <td>1.00</td>\n",
       "      <td>1.00</td>\n",
       "    </tr>\n",
       "    <tr>\n",
       "      <th>Chance of Admit</th>\n",
       "      <td>500.0</td>\n",
       "      <td>0.72174</td>\n",
       "      <td>0.141140</td>\n",
       "      <td>0.34</td>\n",
       "      <td>0.6300</td>\n",
       "      <td>0.72</td>\n",
       "      <td>0.82</td>\n",
       "      <td>0.97</td>\n",
       "    </tr>\n",
       "  </tbody>\n",
       "</table>\n",
       "</div>"
      ],
      "text/plain": [
       "                   count       mean         std     min       25%     50%  \\\n",
       "Serial No.         500.0  250.50000  144.481833    1.00  125.7500  250.50   \n",
       "GRE Score          500.0  316.47200   11.295148  290.00  308.0000  317.00   \n",
       "TOEFL Score        500.0  107.19200    6.081868   92.00  103.0000  107.00   \n",
       "University Rating  500.0    3.11400    1.143512    1.00    2.0000    3.00   \n",
       "SOP                500.0    3.37400    0.991004    1.00    2.5000    3.50   \n",
       "LOR                500.0    3.48400    0.925450    1.00    3.0000    3.50   \n",
       "CGPA               500.0    8.57644    0.604813    6.80    8.1275    8.56   \n",
       "Research           500.0    0.56000    0.496884    0.00    0.0000    1.00   \n",
       "Chance of Admit    500.0    0.72174    0.141140    0.34    0.6300    0.72   \n",
       "\n",
       "                      75%     max  \n",
       "Serial No.         375.25  500.00  \n",
       "GRE Score          325.00  340.00  \n",
       "TOEFL Score        112.00  120.00  \n",
       "University Rating    4.00    5.00  \n",
       "SOP                  4.00    5.00  \n",
       "LOR                  4.00    5.00  \n",
       "CGPA                 9.04    9.92  \n",
       "Research             1.00    1.00  \n",
       "Chance of Admit      0.82    0.97  "
      ]
     },
     "execution_count": 6,
     "metadata": {},
     "output_type": "execute_result"
    }
   ],
   "source": [
    "data.describe().T"
   ]
  },
  {
   "cell_type": "code",
   "execution_count": 20,
   "id": "344b95e0",
   "metadata": {},
   "outputs": [
    {
     "data": {
      "text/plain": [
       "0.71    23\n",
       "0.64    19\n",
       "0.73    18\n",
       "0.72    16\n",
       "0.79    16\n",
       "        ..\n",
       "0.38     2\n",
       "0.36     2\n",
       "0.43     1\n",
       "0.39     1\n",
       "0.37     1\n",
       "Name: Chance of Admit , Length: 61, dtype: int64"
      ]
     },
     "execution_count": 20,
     "metadata": {},
     "output_type": "execute_result"
    }
   ],
   "source": [
    "data['Chance of Admit '].value_counts()"
   ]
  },
  {
   "cell_type": "code",
   "execution_count": 21,
   "id": "745b1f6b",
   "metadata": {},
   "outputs": [
    {
     "data": {
      "text/plain": [
       "array([0.92, 0.76, 0.72, 0.8 , 0.65, 0.9 , 0.75, 0.68, 0.5 , 0.45, 0.52,\n",
       "       0.84, 0.78, 0.62, 0.61, 0.54, 0.66, 0.63, 0.64, 0.7 , 0.94, 0.95,\n",
       "       0.97, 0.44, 0.46, 0.74, 0.91, 0.88, 0.58, 0.48, 0.49, 0.53, 0.87,\n",
       "       0.86, 0.89, 0.82, 0.56, 0.36, 0.42, 0.47, 0.55, 0.57, 0.96, 0.93,\n",
       "       0.38, 0.34, 0.79, 0.71, 0.69, 0.59, 0.85, 0.77, 0.81, 0.83, 0.67,\n",
       "       0.73, 0.6 , 0.43, 0.51, 0.39, 0.37])"
      ]
     },
     "execution_count": 21,
     "metadata": {},
     "output_type": "execute_result"
    }
   ],
   "source": [
    "data['Chance of Admit '].unique()"
   ]
  },
  {
   "cell_type": "code",
   "execution_count": 22,
   "id": "9f0d2447",
   "metadata": {},
   "outputs": [],
   "source": [
    "X=data.drop('Chance of Admit ',axis=1)"
   ]
  },
  {
   "cell_type": "code",
   "execution_count": 23,
   "id": "5770b476",
   "metadata": {},
   "outputs": [
    {
     "data": {
      "text/html": [
       "<div>\n",
       "<style scoped>\n",
       "    .dataframe tbody tr th:only-of-type {\n",
       "        vertical-align: middle;\n",
       "    }\n",
       "\n",
       "    .dataframe tbody tr th {\n",
       "        vertical-align: top;\n",
       "    }\n",
       "\n",
       "    .dataframe thead th {\n",
       "        text-align: right;\n",
       "    }\n",
       "</style>\n",
       "<table border=\"1\" class=\"dataframe\">\n",
       "  <thead>\n",
       "    <tr style=\"text-align: right;\">\n",
       "      <th></th>\n",
       "      <th>Serial No.</th>\n",
       "      <th>GRE Score</th>\n",
       "      <th>TOEFL Score</th>\n",
       "      <th>University Rating</th>\n",
       "      <th>SOP</th>\n",
       "      <th>LOR</th>\n",
       "      <th>CGPA</th>\n",
       "      <th>Research</th>\n",
       "    </tr>\n",
       "  </thead>\n",
       "  <tbody>\n",
       "    <tr>\n",
       "      <th>0</th>\n",
       "      <td>1</td>\n",
       "      <td>337</td>\n",
       "      <td>118</td>\n",
       "      <td>4</td>\n",
       "      <td>4.5</td>\n",
       "      <td>4.5</td>\n",
       "      <td>9.65</td>\n",
       "      <td>1</td>\n",
       "    </tr>\n",
       "    <tr>\n",
       "      <th>1</th>\n",
       "      <td>2</td>\n",
       "      <td>324</td>\n",
       "      <td>107</td>\n",
       "      <td>4</td>\n",
       "      <td>4.0</td>\n",
       "      <td>4.5</td>\n",
       "      <td>8.87</td>\n",
       "      <td>1</td>\n",
       "    </tr>\n",
       "    <tr>\n",
       "      <th>2</th>\n",
       "      <td>3</td>\n",
       "      <td>316</td>\n",
       "      <td>104</td>\n",
       "      <td>3</td>\n",
       "      <td>3.0</td>\n",
       "      <td>3.5</td>\n",
       "      <td>8.00</td>\n",
       "      <td>1</td>\n",
       "    </tr>\n",
       "    <tr>\n",
       "      <th>3</th>\n",
       "      <td>4</td>\n",
       "      <td>322</td>\n",
       "      <td>110</td>\n",
       "      <td>3</td>\n",
       "      <td>3.5</td>\n",
       "      <td>2.5</td>\n",
       "      <td>8.67</td>\n",
       "      <td>1</td>\n",
       "    </tr>\n",
       "    <tr>\n",
       "      <th>4</th>\n",
       "      <td>5</td>\n",
       "      <td>314</td>\n",
       "      <td>103</td>\n",
       "      <td>2</td>\n",
       "      <td>2.0</td>\n",
       "      <td>3.0</td>\n",
       "      <td>8.21</td>\n",
       "      <td>0</td>\n",
       "    </tr>\n",
       "  </tbody>\n",
       "</table>\n",
       "</div>"
      ],
      "text/plain": [
       "   Serial No.  GRE Score  TOEFL Score  University Rating  SOP  LOR   CGPA  \\\n",
       "0           1        337          118                  4  4.5   4.5  9.65   \n",
       "1           2        324          107                  4  4.0   4.5  8.87   \n",
       "2           3        316          104                  3  3.0   3.5  8.00   \n",
       "3           4        322          110                  3  3.5   2.5  8.67   \n",
       "4           5        314          103                  2  2.0   3.0  8.21   \n",
       "\n",
       "   Research  \n",
       "0         1  \n",
       "1         1  \n",
       "2         1  \n",
       "3         1  \n",
       "4         0  "
      ]
     },
     "execution_count": 23,
     "metadata": {},
     "output_type": "execute_result"
    }
   ],
   "source": [
    "X.head()"
   ]
  },
  {
   "cell_type": "code",
   "execution_count": 24,
   "id": "004c5664",
   "metadata": {},
   "outputs": [],
   "source": [
    "y=data['Chance of Admit ']"
   ]
  },
  {
   "cell_type": "code",
   "execution_count": 25,
   "id": "e509ed16",
   "metadata": {},
   "outputs": [
    {
     "data": {
      "text/plain": [
       "0    0.92\n",
       "1    0.76\n",
       "2    0.72\n",
       "3    0.80\n",
       "4    0.65\n",
       "Name: Chance of Admit , dtype: float64"
      ]
     },
     "execution_count": 25,
     "metadata": {},
     "output_type": "execute_result"
    }
   ],
   "source": [
    "y.head()"
   ]
  },
  {
   "cell_type": "code",
   "execution_count": 26,
   "id": "7be8aca0",
   "metadata": {},
   "outputs": [],
   "source": [
    "from sklearn.model_selection import train_test_split\n",
    "X_train, X_test, y_train, y_test = train_test_split(X, y, test_size=0.30, random_state=35)"
   ]
  },
  {
   "cell_type": "code",
   "execution_count": 27,
   "id": "8ca6866d",
   "metadata": {},
   "outputs": [
    {
     "data": {
      "text/html": [
       "<div>\n",
       "<style scoped>\n",
       "    .dataframe tbody tr th:only-of-type {\n",
       "        vertical-align: middle;\n",
       "    }\n",
       "\n",
       "    .dataframe tbody tr th {\n",
       "        vertical-align: top;\n",
       "    }\n",
       "\n",
       "    .dataframe thead th {\n",
       "        text-align: right;\n",
       "    }\n",
       "</style>\n",
       "<table border=\"1\" class=\"dataframe\">\n",
       "  <thead>\n",
       "    <tr style=\"text-align: right;\">\n",
       "      <th></th>\n",
       "      <th>Serial No.</th>\n",
       "      <th>GRE Score</th>\n",
       "      <th>TOEFL Score</th>\n",
       "      <th>University Rating</th>\n",
       "      <th>SOP</th>\n",
       "      <th>LOR</th>\n",
       "      <th>CGPA</th>\n",
       "      <th>Research</th>\n",
       "    </tr>\n",
       "  </thead>\n",
       "  <tbody>\n",
       "    <tr>\n",
       "      <th>77</th>\n",
       "      <td>78</td>\n",
       "      <td>301</td>\n",
       "      <td>99</td>\n",
       "      <td>2</td>\n",
       "      <td>3.0</td>\n",
       "      <td>2.0</td>\n",
       "      <td>8.22</td>\n",
       "      <td>0</td>\n",
       "    </tr>\n",
       "    <tr>\n",
       "      <th>441</th>\n",
       "      <td>442</td>\n",
       "      <td>332</td>\n",
       "      <td>112</td>\n",
       "      <td>1</td>\n",
       "      <td>1.5</td>\n",
       "      <td>3.0</td>\n",
       "      <td>8.66</td>\n",
       "      <td>1</td>\n",
       "    </tr>\n",
       "    <tr>\n",
       "      <th>164</th>\n",
       "      <td>165</td>\n",
       "      <td>329</td>\n",
       "      <td>111</td>\n",
       "      <td>4</td>\n",
       "      <td>4.5</td>\n",
       "      <td>4.0</td>\n",
       "      <td>9.01</td>\n",
       "      <td>1</td>\n",
       "    </tr>\n",
       "    <tr>\n",
       "      <th>273</th>\n",
       "      <td>274</td>\n",
       "      <td>312</td>\n",
       "      <td>99</td>\n",
       "      <td>1</td>\n",
       "      <td>1.0</td>\n",
       "      <td>1.5</td>\n",
       "      <td>8.01</td>\n",
       "      <td>1</td>\n",
       "    </tr>\n",
       "    <tr>\n",
       "      <th>6</th>\n",
       "      <td>7</td>\n",
       "      <td>321</td>\n",
       "      <td>109</td>\n",
       "      <td>3</td>\n",
       "      <td>3.0</td>\n",
       "      <td>4.0</td>\n",
       "      <td>8.20</td>\n",
       "      <td>1</td>\n",
       "    </tr>\n",
       "  </tbody>\n",
       "</table>\n",
       "</div>"
      ],
      "text/plain": [
       "     Serial No.  GRE Score  TOEFL Score  University Rating  SOP  LOR   CGPA  \\\n",
       "77           78        301           99                  2  3.0   2.0  8.22   \n",
       "441         442        332          112                  1  1.5   3.0  8.66   \n",
       "164         165        329          111                  4  4.5   4.0  9.01   \n",
       "273         274        312           99                  1  1.0   1.5  8.01   \n",
       "6             7        321          109                  3  3.0   4.0  8.20   \n",
       "\n",
       "     Research  \n",
       "77          0  \n",
       "441         1  \n",
       "164         1  \n",
       "273         1  \n",
       "6           1  "
      ]
     },
     "execution_count": 27,
     "metadata": {},
     "output_type": "execute_result"
    }
   ],
   "source": [
    "X_test.head()"
   ]
  },
  {
   "cell_type": "code",
   "execution_count": 28,
   "id": "80609a90",
   "metadata": {},
   "outputs": [],
   "source": [
    "from sklearn.preprocessing import StandardScaler"
   ]
  },
  {
   "cell_type": "code",
   "execution_count": 29,
   "id": "d117bdb3",
   "metadata": {},
   "outputs": [],
   "source": [
    "scaler = StandardScaler()"
   ]
  },
  {
   "cell_type": "code",
   "execution_count": 31,
   "id": "6ee181f1",
   "metadata": {},
   "outputs": [],
   "source": [
    "X_train_tf=scaler.fit_transform(X_train)"
   ]
  },
  {
   "cell_type": "code",
   "execution_count": 33,
   "id": "a0c98139",
   "metadata": {},
   "outputs": [],
   "source": [
    "X_test_tf=scaler.transform(X_test)"
   ]
  },
  {
   "cell_type": "code",
   "execution_count": 36,
   "id": "b6c70b20",
   "metadata": {},
   "outputs": [],
   "source": [
    "from sklearn.svm import SVR"
   ]
  },
  {
   "cell_type": "code",
   "execution_count": 37,
   "id": "17de7460",
   "metadata": {},
   "outputs": [],
   "source": [
    "model= SVR()"
   ]
  },
  {
   "cell_type": "code",
   "execution_count": 38,
   "id": "70ce3ab3",
   "metadata": {},
   "outputs": [
    {
     "data": {
      "text/plain": [
       "SVR()"
      ]
     },
     "execution_count": 38,
     "metadata": {},
     "output_type": "execute_result"
    }
   ],
   "source": [
    "model.fit(X_train_tf,y_train)"
   ]
  },
  {
   "cell_type": "code",
   "execution_count": 40,
   "id": "ccc2c8ca",
   "metadata": {},
   "outputs": [
    {
     "data": {
      "text/plain": [
       "0.8190169495464712"
      ]
     },
     "execution_count": 40,
     "metadata": {},
     "output_type": "execute_result"
    }
   ],
   "source": [
    "model.score(X_train_tf,y_train)"
   ]
  },
  {
   "cell_type": "code",
   "execution_count": 44,
   "id": "d06f946a",
   "metadata": {},
   "outputs": [],
   "source": [
    "y_predict= model.predict(X_test_tf)"
   ]
  },
  {
   "cell_type": "code",
   "execution_count": 45,
   "id": "87e266cc",
   "metadata": {},
   "outputs": [
    {
     "data": {
      "text/plain": [
       "array([0.54585987, 0.68241832, 0.85033595, 0.55829808, 0.70000676,\n",
       "       0.62450384, 0.62174802, 0.65486188, 0.65220521, 0.54749142,\n",
       "       0.88712931, 0.59445223, 0.61137167, 0.77120533, 0.73400285,\n",
       "       0.63308928, 0.63251148, 0.80503876, 0.8159992 , 0.53483   ,\n",
       "       0.66999282, 0.54679596, 0.63222213, 0.86801382, 0.71999735,\n",
       "       0.83737632, 0.63341344, 0.49147798, 0.73772477, 0.78561431,\n",
       "       0.75887835, 0.74894268, 0.87033174, 0.60154147, 0.52467824,\n",
       "       0.49141484, 0.61102542, 0.88666241, 0.87500563, 0.75594275,\n",
       "       0.68592777, 0.83365877, 0.61742006, 0.781887  , 0.70114669,\n",
       "       0.56394472, 0.67999895, 0.73554241, 0.85892682, 0.62807501,\n",
       "       0.73170629, 0.5077374 , 0.73436511, 0.78205333, 0.88588097,\n",
       "       0.68533372, 0.85292401, 0.55162945, 0.77929314, 0.52801442,\n",
       "       0.59475256, 0.84123939, 0.87866241, 0.74356616, 0.81112267,\n",
       "       0.88391421, 0.86172873, 0.76566884, 0.80183084, 0.57120838,\n",
       "       0.6334304 , 0.70456594, 0.71299596, 0.79191184, 0.51052352,\n",
       "       0.64172203, 0.83962453, 0.88977101, 0.44351885, 0.56555589,\n",
       "       0.70057887, 0.61607645, 0.72514009, 0.75161505, 0.73716507,\n",
       "       0.87923737, 0.66159012, 0.74038048, 0.64263715, 0.73348801,\n",
       "       0.75430053, 0.73645078, 0.59321798, 0.69140392, 0.87104929,\n",
       "       0.58762218, 0.80021008, 0.6098193 , 0.84589577, 0.76680489,\n",
       "       0.54349845, 0.561518  , 0.69644997, 0.72760642, 0.67596748,\n",
       "       0.86980046, 0.80042213, 0.80740328, 0.85333761, 0.46982544,\n",
       "       0.59870724, 0.82048137, 0.5320456 , 0.85136073, 0.58558226,\n",
       "       0.69648964, 0.70206135, 0.62005485, 0.74045011, 0.86255362,\n",
       "       0.88588357, 0.65514286, 0.64440386, 0.7273942 , 0.43879128,\n",
       "       0.78620581, 0.70644642, 0.61636855, 0.80457311, 0.53605588,\n",
       "       0.72446979, 0.66584249, 0.65897884, 0.86785895, 0.83843386,\n",
       "       0.87138475, 0.8168078 , 0.74939177, 0.72350013, 0.73459076,\n",
       "       0.84724768, 0.83884168, 0.78629725, 0.8125299 , 0.6038614 ,\n",
       "       0.60530387, 0.67938913, 0.54059105, 0.79532738, 0.71331718])"
      ]
     },
     "execution_count": 45,
     "metadata": {},
     "output_type": "execute_result"
    }
   ],
   "source": [
    "y_predict"
   ]
  },
  {
   "cell_type": "markdown",
   "id": "de6ac19d",
   "metadata": {},
   "source": [
    "# Assumption for linera regression model is good or not"
   ]
  },
  {
   "cell_type": "code",
   "execution_count": 52,
   "id": "74cb4b14",
   "metadata": {},
   "outputs": [],
   "source": [
    "import matplotlib.pyplot as plt \n",
    "%matplotlib inline"
   ]
  },
  {
   "cell_type": "code",
   "execution_count": 53,
   "id": "891ae14a",
   "metadata": {},
   "outputs": [
    {
     "data": {
      "text/plain": [
       "Text(0, 0.5, 'linear prediction')"
      ]
     },
     "execution_count": 53,
     "metadata": {},
     "output_type": "execute_result"
    },
    {
     "data": {
      "image/png": "[encoded data removed]",
      "text/plain": [
       "<Figure size 432x288 with 1 Axes>"
      ]
     },
     "metadata": {
      "needs_background": "light"
     },
     "output_type": "display_data"
    }
   ],
   "source": [
    "plt.scatter(y_test,  y_predict)\n",
    "plt.xlabel(\"y_test\")\n",
    "plt.ylabel(\"linear prediction\")"
   ]
  },
  {
   "cell_type": "code",
   "execution_count": 54,
   "id": "cd8280aa",
   "metadata": {},
   "outputs": [],
   "source": [
    "residuals = y_test- y_predict"
   ]
  },
  {
   "cell_type": "code",
   "execution_count": 55,
   "id": "29502a0a",
   "metadata": {},
   "outputs": [
    {
     "data": {
      "text/plain": [
       "77     0.094140\n",
       "441    0.107582\n",
       "164   -0.040336\n",
       "273   -0.038298\n",
       "6      0.049993\n",
       "         ...   \n",
       "465   -0.065304\n",
       "314   -0.019389\n",
       "239    0.049409\n",
       "99    -0.005327\n",
       "74     0.026683\n",
       "Name: Chance of Admit , Length: 150, dtype: float64"
      ]
     },
     "execution_count": 55,
     "metadata": {},
     "output_type": "execute_result"
    }
   ],
   "source": [
    "residuals"
   ]
  },
  {
   "cell_type": "code",
   "execution_count": 58,
   "id": "77e761af",
   "metadata": {},
   "outputs": [
    {
     "data": {
      "text/plain": [
       "<seaborn.axisgrid.FacetGrid at 0x1e920d725e0>"
      ]
     },
     "execution_count": 58,
     "metadata": {},
     "output_type": "execute_result"
    },
    {
     "data": {
      "image/png": "[encoded data removed]",
      "text/plain": [
       "<Figure size 360x360 with 1 Axes>"
      ]
     },
     "metadata": {
      "needs_background": "light"
     },
     "output_type": "display_data"
    }
   ],
   "source": [
    "import seaborn as sns\n",
    "sns.displot(residuals, kind = \"kde\")"
   ]
  },
  {
   "cell_type": "code",
   "execution_count": 59,
   "id": "5a959b7c",
   "metadata": {},
   "outputs": [],
   "source": [
    "## assumption on prediction and residual\n",
    "## uniform distribution"
   ]
  },
  {
   "cell_type": "code",
   "execution_count": 61,
   "id": "bd59f902",
   "metadata": {},
   "outputs": [
    {
     "data": {
      "text/plain": [
       "<matplotlib.collections.PathCollection at 0x1e91e1268e0>"
      ]
     },
     "execution_count": 61,
     "metadata": {},
     "output_type": "execute_result"
    },
    {
     "data": {
      "image/png": "[encoded data removed]",
      "text/plain": [
       "<Figure size 432x288 with 1 Axes>"
      ]
     },
     "metadata": {
      "needs_background": "light"
     },
     "output_type": "display_data"
    }
   ],
   "source": [
    "plt.scatter(y_predict, residuals)    ## there is not any kind of special shape in distribution so model is good"
   ]
  },
  {
   "cell_type": "markdown",
   "id": "4e4ce338",
   "metadata": {},
   "source": [
    "# performace matrix"
   ]
  },
  {
   "cell_type": "code",
   "execution_count": 63,
   "id": "312adb2f",
   "metadata": {},
   "outputs": [],
   "source": [
    "import numpy as np"
   ]
  },
  {
   "cell_type": "code",
   "execution_count": 64,
   "id": "33b8a9d9",
   "metadata": {},
   "outputs": [
    {
     "name": "stdout",
     "output_type": "stream",
     "text": [
      "0.005271183079603326\n",
      "0.058789522255087844\n",
      "0.0726029137129036\n"
     ]
    }
   ],
   "source": [
    "from sklearn.metrics import mean_squared_error\n",
    "from sklearn.metrics import mean_absolute_error\n",
    "print(mean_squared_error(y_test, y_predict))\n",
    "print(mean_absolute_error(y_test, y_predict))\n",
    "print(np.sqrt(mean_squared_error(y_test,y_predict)))"
   ]
  },
  {
   "cell_type": "markdown",
   "id": "0c9ec9e1",
   "metadata": {},
   "source": [
    "# R square and adjusted R square"
   ]
  },
  {
   "cell_type": "code",
   "execution_count": 65,
   "id": "8db1f590",
   "metadata": {},
   "outputs": [
    {
     "data": {
      "text/plain": [
       "0.7331194283454017"
      ]
     },
     "execution_count": 65,
     "metadata": {},
     "output_type": "execute_result"
    }
   ],
   "source": [
    "from sklearn.metrics import r2_score\n",
    "score = r2_score(y_test, y_predict)\n",
    "score"
   ]
  },
  {
   "cell_type": "code",
   "execution_count": 67,
   "id": "bdd8f239",
   "metadata": {},
   "outputs": [
    {
     "data": {
      "text/plain": [
       "0.7179772682515237"
      ]
     },
     "execution_count": 67,
     "metadata": {},
     "output_type": "execute_result"
    }
   ],
   "source": [
    "# adjusted R squre \n",
    "def adj_r2(x,y):\n",
    "    r2= model.score(x,y)\n",
    "    n= x.shape[0]  # number of rows\n",
    "    p= x.shape[1]  # number of columns\n",
    "    adj_r2=1-(1-r2)*(n-1)/(n-p-1)\n",
    "    return adj_r2\n",
    "\n",
    "adj_r2(X_test_tf, y_test)"
   ]
  },
  {
   "cell_type": "markdown",
   "id": "c146cd5a",
   "metadata": {},
   "source": [
    "# Rigde"
   ]
  },
  {
   "cell_type": "code",
   "execution_count": 68,
   "id": "71c40de2",
   "metadata": {},
   "outputs": [],
   "source": [
    "from sklearn.linear_model import Ridge\n",
    "ridge=Ridge()"
   ]
  },
  {
   "cell_type": "code",
   "execution_count": 74,
   "id": "3a6579e8",
   "metadata": {},
   "outputs": [
    {
     "data": {
      "text/plain": [
       "Ridge()"
      ]
     },
     "execution_count": 74,
     "metadata": {},
     "output_type": "execute_result"
    }
   ],
   "source": [
    "ridge.fit(X_train_tf,y_train)"
   ]
  },
  {
   "cell_type": "code",
   "execution_count": 75,
   "id": "6d2540dc",
   "metadata": {},
   "outputs": [],
   "source": [
    "ridge_y=ridge.predict(X_test_tf)"
   ]
  },
  {
   "cell_type": "code",
   "execution_count": 76,
   "id": "1ae87e8f",
   "metadata": {},
   "outputs": [
    {
     "data": {
      "text/plain": [
       "array([0.56778513, 0.76442866, 0.83024047, 0.57205247, 0.6898051 ,\n",
       "       0.62126169, 0.66380312, 0.67828373, 0.6664778 , 0.49235212,\n",
       "       0.97325742, 0.60936122, 0.64100531, 0.77739442, 0.69549423,\n",
       "       0.68440225, 0.60936194, 0.82788267, 0.82544373, 0.51490454,\n",
       "       0.68490318, 0.5595349 , 0.6308347 , 0.88785358, 0.72893908,\n",
       "       0.91495705, 0.64726353, 0.53984802, 0.74240549, 0.84740247,\n",
       "       0.73025494, 0.69648751, 0.8835057 , 0.64902966, 0.55961266,\n",
       "       0.40591186, 0.68038144, 0.91758025, 0.94703773, 0.73167932,\n",
       "       0.60726123, 0.80852711, 0.63217825, 0.77512804, 0.72417703,\n",
       "       0.64085501, 0.69976798, 0.7170443 , 0.91157704, 0.68730678,\n",
       "       0.79578917, 0.52194984, 0.78674019, 0.79539364, 0.90895921,\n",
       "       0.6779239 , 0.96611838, 0.6106865 , 0.79519065, 0.54634916,\n",
       "       0.65040097, 0.82271978, 0.94425855, 0.7903418 , 0.84528223,\n",
       "       0.91150425, 0.94786474, 0.77379017, 0.80378951, 0.58978282,\n",
       "       0.71149864, 0.72808548, 0.7369008 , 0.78459654, 0.48115772,\n",
       "       0.64387691, 0.92309106, 0.97125175, 0.52364744, 0.5763414 ,\n",
       "       0.71332487, 0.64645205, 0.77892084, 0.79350467, 0.69412863,\n",
       "       0.92806172, 0.60809791, 0.70542289, 0.65963131, 0.78451856,\n",
       "       0.73689175, 0.84159939, 0.60823023, 0.83253913, 0.89987165,\n",
       "       0.59207831, 0.80676225, 0.65011131, 0.85208971, 0.73720124,\n",
       "       0.56389133, 0.59967204, 0.72011968, 0.70309718, 0.64168533,\n",
       "       0.98495463, 0.81801966, 0.79736655, 0.94747453, 0.43062497,\n",
       "       0.59667579, 0.93979637, 0.48225762, 0.85298224, 0.58312032,\n",
       "       0.66881188, 0.68337765, 0.62512046, 0.71198925, 0.89617277,\n",
       "       0.94639145, 0.66240402, 0.62439685, 0.71710638, 0.5428176 ,\n",
       "       0.86329767, 0.66331698, 0.77282306, 0.84578182, 0.5786482 ,\n",
       "       0.72635412, 0.63968509, 0.64044866, 0.85449372, 0.88036956,\n",
       "       0.88641772, 0.87687892, 0.7349164 , 0.70630607, 0.92320268,\n",
       "       0.94813773, 0.91945593, 0.76008443, 0.88393626, 0.55488707,\n",
       "       0.6463442 , 0.63476561, 0.52528016, 0.79875845, 0.74236389])"
      ]
     },
     "execution_count": 76,
     "metadata": {},
     "output_type": "execute_result"
    }
   ],
   "source": [
    "ridge_y"
   ]
  },
  {
   "cell_type": "markdown",
   "id": "cb28656e",
   "metadata": {},
   "source": [
    "# Assumption for ridge is good or not"
   ]
  },
  {
   "cell_type": "code",
   "execution_count": 78,
   "id": "4e5b9539",
   "metadata": {},
   "outputs": [
    {
     "data": {
      "text/plain": [
       "Text(0, 0.5, 'Ridge prediction')"
      ]
     },
     "execution_count": 78,
     "metadata": {},
     "output_type": "execute_result"
    },
    {
     "data": {
      "image/png": "[encoded data removed]",
      "text/plain": [
       "<Figure size 432x288 with 1 Axes>"
      ]
     },
     "metadata": {
      "needs_background": "light"
     },
     "output_type": "display_data"
    }
   ],
   "source": [
    "plt.scatter(y_test, ridge_y)\n",
    "plt.xlabel(\"y_test\")\n",
    "plt.ylabel(\"Ridge prediction\")"
   ]
  },
  {
   "cell_type": "code",
   "execution_count": 79,
   "id": "c8a94eb4",
   "metadata": {},
   "outputs": [],
   "source": [
    "## residuals\n",
    "residuals = y_test- ridge_y  # will get error"
   ]
  },
  {
   "cell_type": "code",
   "execution_count": 80,
   "id": "445fe6d3",
   "metadata": {},
   "outputs": [
    {
     "data": {
      "text/plain": [
       "<seaborn.axisgrid.FacetGrid at 0x1e92381a580>"
      ]
     },
     "execution_count": 80,
     "metadata": {},
     "output_type": "execute_result"
    },
    {
     "data": {
      "image/png": "[encoded data removed]",
      "text/plain": [
       "<Figure size 360x360 with 1 Axes>"
      ]
     },
     "metadata": {
      "needs_background": "light"
     },
     "output_type": "display_data"
    }
   ],
   "source": [
    "sns.displot(residuals, kind = \"kde\")"
   ]
  },
  {
   "cell_type": "markdown",
   "id": "711ebe0a",
   "metadata": {},
   "source": [
    "# Assumption for linear regression\n",
    "### term where data is uniformly distributed term called homosadacity"
   ]
  },
  {
   "cell_type": "code",
   "execution_count": 81,
   "id": "4d1f776a",
   "metadata": {},
   "outputs": [
    {
     "data": {
      "text/plain": [
       "<matplotlib.collections.PathCollection at 0x1e92395d4f0>"
      ]
     },
     "execution_count": 81,
     "metadata": {},
     "output_type": "execute_result"
    },
    {
     "data": {
      "image/png": "[encoded data removed]",
      "text/plain": [
       "<Figure size 432x288 with 1 Axes>"
      ]
     },
     "metadata": {
      "needs_background": "light"
     },
     "output_type": "display_data"
    }
   ],
   "source": [
    "plt.scatter(ridge_y, residuals)    ## there is no shape in distribution so model is good"
   ]
  },
  {
   "cell_type": "markdown",
   "id": "99b191fe",
   "metadata": {},
   "source": [
    "# performace matrix"
   ]
  },
  {
   "cell_type": "code",
   "execution_count": 83,
   "id": "2d42bd4b",
   "metadata": {},
   "outputs": [],
   "source": [
    "from sklearn.metrics import mean_squared_error\n",
    "from sklearn.metrics import mean_absolute_error"
   ]
  },
  {
   "cell_type": "code",
   "execution_count": 84,
   "id": "0a972911",
   "metadata": {},
   "outputs": [
    {
     "name": "stdout",
     "output_type": "stream",
     "text": [
      "0.003439119611075864\n",
      "0.04272237834940578\n",
      "0.05864400746091508\n"
     ]
    }
   ],
   "source": [
    "print(mean_squared_error(y_test, ridge_y))\n",
    "print(mean_absolute_error(y_test, ridge_y))\n",
    "print(np.sqrt(mean_squared_error(y_test,ridge_y)))"
   ]
  },
  {
   "cell_type": "code",
   "execution_count": 85,
   "id": "babb70d6",
   "metadata": {},
   "outputs": [
    {
     "data": {
      "text/plain": [
       "0.8258770006786529"
      ]
     },
     "execution_count": 85,
     "metadata": {},
     "output_type": "execute_result"
    }
   ],
   "source": [
    "# R square and adjusted R square\n",
    "# R square and adjusted R square\n",
    "from sklearn.metrics import r2_score\n",
    "score = r2_score(y_test,ridge_y)\n",
    "score"
   ]
  },
  {
   "cell_type": "code",
   "execution_count": 90,
   "id": "1ee02046",
   "metadata": {},
   "outputs": [
    {
     "data": {
      "text/plain": [
       "0.8159976815682218"
      ]
     },
     "execution_count": 90,
     "metadata": {},
     "output_type": "execute_result"
    }
   ],
   "source": [
    "# adjusted R squre \n",
    "def adj_r2(x,y):\n",
    "    r2= ridge.score(x,y)\n",
    "    n= x.shape[0]  # number of rows\n",
    "    p= x.shape[1]  # number of columns\n",
    "    adj_r2=1-(1-r2)*(n-1)/(n-p-1)\n",
    "    return adj_r2\n",
    "\n",
    "adj_r2(X_test_tf, y_test)"
   ]
  },
  {
   "cell_type": "code",
   "execution_count": null,
   "id": "ad1d3493",
   "metadata": {},
   "outputs": [],
   "source": []
  },
  {
   "cell_type": "code",
   "execution_count": null,
   "id": "8c4e40e7",
   "metadata": {},
   "outputs": [],
   "source": []
  }
 ],
 "metadata": {
  "kernelspec": {
   "display_name": "Python 3 (ipykernel)",
   "language": "python",
   "name": "python3"
  },
  "language_info": {
   "codemirror_mode": {
    "name": "ipython",
    "version": 3
   },
   "file_extension": ".py",
   "mimetype": "text/x-python",
   "name": "python",
   "nbconvert_exporter": "python",
   "pygments_lexer": "ipython3",
   "version": "3.9.12"
  }
 },
 "nbformat": 4,
 "nbformat_minor": 5
}
